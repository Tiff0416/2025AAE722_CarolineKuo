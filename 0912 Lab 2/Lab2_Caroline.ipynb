{
 "cells": [
  {
   "cell_type": "code",
   "execution_count": 1,
   "id": "b36d9889",
   "metadata": {},
   "outputs": [
    {
     "name": "stdout",
     "output_type": "stream",
     "text": [
      "[10, 99, 30]\n"
     ]
    },
    {
     "ename": "TypeError",
     "evalue": "'tuple' object does not support item assignment",
     "output_type": "error",
     "traceback": [
      "\u001b[31m---------------------------------------------------------------------------\u001b[39m",
      "\u001b[31mTypeError\u001b[39m                                 Traceback (most recent call last)",
      "\u001b[36mCell\u001b[39m\u001b[36m \u001b[39m\u001b[32mIn[1]\u001b[39m\u001b[32m, line 9\u001b[39m\n\u001b[32m      7\u001b[39m \u001b[38;5;66;03m# create a tuple and attempt to modify an element\u001b[39;00m\n\u001b[32m      8\u001b[39m my_tuple = (\u001b[32m1\u001b[39m,\u001b[32m2\u001b[39m,\u001b[32m3\u001b[39m)\n\u001b[32m----> \u001b[39m\u001b[32m9\u001b[39m \u001b[43mmy_tuple\u001b[49m\u001b[43m[\u001b[49m\u001b[32;43m0\u001b[39;49m\u001b[43m]\u001b[49m = \u001b[32m100\u001b[39m\n\u001b[32m     10\u001b[39m \u001b[38;5;28mprint\u001b[39m(\u001b[38;5;28mtuple\u001b[39m)\n\u001b[32m     12\u001b[39m \u001b[38;5;66;03m#explaination \u001b[39;00m\n\u001b[32m     13\u001b[39m \u001b[38;5;66;03m# We can modify elements in a list because lists are mutable\u001b[39;00m\n\u001b[32m     14\u001b[39m \u001b[38;5;66;03m# However, tuples are immutable, so once they are created, their contents cannot be changed.\u001b[39;00m\n",
      "\u001b[31mTypeError\u001b[39m: 'tuple' object does not support item assignment"
     ]
    }
   ],
   "source": [
    "#1. Python Lists and Tuples\n",
    "# creat a list and modify an element\n",
    "number = [10, 20, 30]\n",
    "number[1] = 99\n",
    "print(number)\n",
    "\n",
    "# create a tuple and attempt to modify an element\n",
    "my_tuple = (1,2,3)\n",
    "my_tuple[0] = 100\n",
    "print(tuple)\n",
    "\n",
    "#explaination \n",
    "# We can modify elements in a list because lists are mutable\n",
    "# However, tuples are immutable, so once they are created, their contents cannot be changed.\n"
   ]
  },
  {
   "cell_type": "code",
   "execution_count": null,
   "id": "8dca28ff",
   "metadata": {},
   "outputs": [
    {
     "name": "stdout",
     "output_type": "stream",
     "text": [
      "Array shape: (2, 3)\n",
      "[[3 4 5]\n",
      " [6 7 8]]\n"
     ]
    }
   ],
   "source": [
    "#2. NumPy Arrays\n",
    "import numpy as np\n",
    "arr = np.array([[1,2,3],[4,5,6]])\n",
    "#than i came up a faster one \n",
    "arr = np.arange(1,7).reshape(2,3)\n",
    "#print its shape\n",
    "print(\"Array shape:\", arr.shape)\n",
    "\n",
    "#add 2 to every element\n",
    "new_arr = arr + 2\n",
    "print(new_arr)\n"
   ]
  },
  {
   "cell_type": "code",
   "execution_count": null,
   "id": "f9ff0818",
   "metadata": {},
   "outputs": [
    {
     "name": "stdout",
     "output_type": "stream",
     "text": [
      "Random numbers:  [ 0.49671415 -0.1382643   0.64768854  1.52302986 -0.23415337]\n",
      "Mean: 0.45900297432508597\n",
      "Standard Deviation: 0.6334621540984487\n"
     ]
    }
   ],
   "source": [
    "#3. Random Numbers and Statistics\n",
    "import numpy as np\n",
    "np.random.seed(42)\n",
    "# Generate 5 random numbers from a standard normal distribution\n",
    "random_numbers = np.random.randn(5)\n",
    "print(\"Random numbers: \", random_numbers)\n",
    "\n",
    "#print their mean and standard deviation.\n",
    "print(\"Mean:\", np.mean(random_numbers))\n",
    "print(\"Standard Deviation:\", np.std(random_numbers))\n"
   ]
  },
  {
   "cell_type": "code",
   "execution_count": 5,
   "id": "f10f4a86",
   "metadata": {},
   "outputs": [
    {
     "data": {
      "image/png": "[encoded data removed]",
      "text/plain": [
       "<Figure size 800x800 with 1 Axes>"
      ]
     },
     "metadata": {},
     "output_type": "display_data"
    }
   ],
   "source": [
    "#4. Plotting\n",
    "import matplotlib.pyplot as plt\n",
    "\n",
    "#data for plotting\n",
    "x = [1,2,3]\n",
    "y = [4,5,6]\n",
    "\n",
    "#create a figure and axis object\n",
    "fig, ax = subplots(figsize=(8,8))\n",
    "\n",
    "#create a scatter plot of x vs y with red circle markers\n",
    "ax.scatter(x, y, color=\"red\", marker=\"o\")\n",
    "\n",
    "#label the axes and add a title\n",
    "ax.set_xlabel(\"x-axis\")\n",
    "ax.set_ylabel(\"y-axis\")\n",
    "ax.set_title(\"Scatter Plot of x vs y\")\n",
    "\n",
    "#display the plot\n",
    "plt.show()"
   ]
  },
  {
   "cell_type": "code",
   "execution_count": null,
   "id": "fe34f4b3",
   "metadata": {},
   "outputs": [
    {
     "name": "stdout",
     "output_type": "stream",
     "text": [
      "Original array:\n",
      " [[ 0  1  2  3]\n",
      " [ 4  5  6  7]\n",
      " [ 8  9 10 11]\n",
      " [12 13 14 15]]\n",
      "Second row: [4 5 6 7]\n",
      "Elements greater than 10: [11 12 13 14 15]\n"
     ]
    }
   ],
   "source": [
    "#5. Indexing in NumPy\n",
    "import numpy as np\n",
    "\n",
    "# Create a 4x4 array with values from 0 to 15\n",
    "arr = np.arange(16).reshape(4,4)\n",
    "print(\"Original array:\\n\", arr)\n",
    "\n",
    "# print the second row\n",
    "print(\"Second row:\", arr[1])\n",
    "\n",
    "# print the elements that are greater than 10\n",
    "print(\"Elements greater than 10:\", arr[arr > 10])\n"
   ]
  }
 ],
 "metadata": {
  "kernelspec": {
   "display_name": "myenv",
   "language": "python",
   "name": "python3"
  },
  "language_info": {
   "codemirror_mode": {
    "name": "ipython",
    "version": 3
   },
   "file_extension": ".py",
   "mimetype": "text/x-python",
   "name": "python",
   "nbconvert_exporter": "python",
   "pygments_lexer": "ipython3",
   "version": "3.11.13"
  }
 },
 "nbformat": 4,
 "nbformat_minor": 5
}
