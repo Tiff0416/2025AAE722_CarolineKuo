{
 "cells": [
  {
   "cell_type": "code",
   "execution_count": null,
   "id": "e7d6f9ff",
   "metadata": {},
   "outputs": [
    {
     "name": "stdout",
     "output_type": "stream",
     "text": [
      "Requirement already satisfied: ISLP in /opt/anaconda3/envs/myenv/lib/python3.11/site-packages (0.4.0)\n",
      "Requirement already satisfied: numpy>=1.7.1 in /opt/anaconda3/envs/myenv/lib/python3.11/site-packages (from ISLP) (2.3.2)\n",
      "Requirement already satisfied: scipy>=0.9 in /opt/anaconda3/envs/myenv/lib/python3.11/site-packages (from ISLP) (1.16.2)\n",
      "Requirement already satisfied: pandas>=0.20 in /opt/anaconda3/envs/myenv/lib/python3.11/site-packages (from ISLP) (2.3.2)\n",
      "Requirement already satisfied: lxml in /opt/anaconda3/envs/myenv/lib/python3.11/site-packages (from ISLP) (6.0.1)\n",
      "Requirement already satisfied: scikit-learn>=1.2 in /opt/anaconda3/envs/myenv/lib/python3.11/site-packages (from ISLP) (1.7.2)\n",
      "Requirement already satisfied: joblib in /opt/anaconda3/envs/myenv/lib/python3.11/site-packages (from ISLP) (1.5.2)\n",
      "Requirement already satisfied: statsmodels>=0.13 in /opt/anaconda3/envs/myenv/lib/python3.11/site-packages (from ISLP) (0.14.5)\n",
      "Requirement already satisfied: lifelines in /opt/anaconda3/envs/myenv/lib/python3.11/site-packages (from ISLP) (0.30.0)\n",
      "Requirement already satisfied: pygam in /opt/anaconda3/envs/myenv/lib/python3.11/site-packages (from ISLP) (0.10.1)\n",
      "Requirement already satisfied: torch in /opt/anaconda3/envs/myenv/lib/python3.11/site-packages (from ISLP) (2.8.0)\n",
      "Requirement already satisfied: pytorch-lightning in /opt/anaconda3/envs/myenv/lib/python3.11/site-packages (from ISLP) (2.5.5)\n",
      "Requirement already satisfied: torchmetrics in /opt/anaconda3/envs/myenv/lib/python3.11/site-packages (from ISLP) (1.8.2)\n",
      "Requirement already satisfied: python-dateutil>=2.8.2 in /opt/anaconda3/envs/myenv/lib/python3.11/site-packages (from pandas>=0.20->ISLP) (2.9.0.post0)\n",
      "Requirement already satisfied: pytz>=2020.1 in /opt/anaconda3/envs/myenv/lib/python3.11/site-packages (from pandas>=0.20->ISLP) (2025.2)\n",
      "Requirement already satisfied: tzdata>=2022.7 in /opt/anaconda3/envs/myenv/lib/python3.11/site-packages (from pandas>=0.20->ISLP) (2025.2)\n",
      "Requirement already satisfied: six>=1.5 in /opt/anaconda3/envs/myenv/lib/python3.11/site-packages (from python-dateutil>=2.8.2->pandas>=0.20->ISLP) (1.17.0)\n",
      "Requirement already satisfied: threadpoolctl>=3.1.0 in /opt/anaconda3/envs/myenv/lib/python3.11/site-packages (from scikit-learn>=1.2->ISLP) (3.6.0)\n",
      "Requirement already satisfied: patsy>=0.5.6 in /opt/anaconda3/envs/myenv/lib/python3.11/site-packages (from statsmodels>=0.13->ISLP) (1.0.1)\n",
      "Requirement already satisfied: packaging>=21.3 in /opt/anaconda3/envs/myenv/lib/python3.11/site-packages (from statsmodels>=0.13->ISLP) (25.0)\n",
      "Requirement already satisfied: matplotlib>=3.0 in /opt/anaconda3/envs/myenv/lib/python3.11/site-packages (from lifelines->ISLP) (3.10.6)\n",
      "Requirement already satisfied: autograd>=1.5 in /opt/anaconda3/envs/myenv/lib/python3.11/site-packages (from lifelines->ISLP) (1.8.0)\n",
      "Requirement already satisfied: autograd-gamma>=0.3 in /opt/anaconda3/envs/myenv/lib/python3.11/site-packages (from lifelines->ISLP) (0.5.0)\n",
      "Requirement already satisfied: formulaic>=0.2.2 in /opt/anaconda3/envs/myenv/lib/python3.11/site-packages (from lifelines->ISLP) (1.2.0)\n",
      "Requirement already satisfied: interface-meta>=1.2.0 in /opt/anaconda3/envs/myenv/lib/python3.11/site-packages (from formulaic>=0.2.2->lifelines->ISLP) (1.3.0)\n",
      "Requirement already satisfied: narwhals>=1.17 in /opt/anaconda3/envs/myenv/lib/python3.11/site-packages (from formulaic>=0.2.2->lifelines->ISLP) (2.5.0)\n",
      "Requirement already satisfied: typing-extensions>=4.2.0 in /opt/anaconda3/envs/myenv/lib/python3.11/site-packages (from formulaic>=0.2.2->lifelines->ISLP) (4.15.0)\n",
      "Requirement already satisfied: wrapt>=1.0 in /opt/anaconda3/envs/myenv/lib/python3.11/site-packages (from formulaic>=0.2.2->lifelines->ISLP) (1.17.3)\n",
      "Requirement already satisfied: contourpy>=1.0.1 in /opt/anaconda3/envs/myenv/lib/python3.11/site-packages (from matplotlib>=3.0->lifelines->ISLP) (1.3.3)\n",
      "Requirement already satisfied: cycler>=0.10 in /opt/anaconda3/envs/myenv/lib/python3.11/site-packages (from matplotlib>=3.0->lifelines->ISLP) (0.12.1)\n",
      "Requirement already satisfied: fonttools>=4.22.0 in /opt/anaconda3/envs/myenv/lib/python3.11/site-packages (from matplotlib>=3.0->lifelines->ISLP) (4.59.2)\n",
      "Requirement already satisfied: kiwisolver>=1.3.1 in /opt/anaconda3/envs/myenv/lib/python3.11/site-packages (from matplotlib>=3.0->lifelines->ISLP) (1.4.9)\n",
      "Requirement already satisfied: pillow>=8 in /opt/anaconda3/envs/myenv/lib/python3.11/site-packages (from matplotlib>=3.0->lifelines->ISLP) (11.3.0)\n",
      "Requirement already satisfied: pyparsing>=2.3.1 in /opt/anaconda3/envs/myenv/lib/python3.11/site-packages (from matplotlib>=3.0->lifelines->ISLP) (3.2.3)\n",
      "Requirement already satisfied: progressbar2<5,>=4.2.0 in /opt/anaconda3/envs/myenv/lib/python3.11/site-packages (from pygam->ISLP) (4.5.0)\n",
      "Requirement already satisfied: python-utils>=3.8.1 in /opt/anaconda3/envs/myenv/lib/python3.11/site-packages (from progressbar2<5,>=4.2.0->pygam->ISLP) (3.9.1)\n",
      "Requirement already satisfied: tqdm>=4.57.0 in /opt/anaconda3/envs/myenv/lib/python3.11/site-packages (from pytorch-lightning->ISLP) (4.67.1)\n",
      "Requirement already satisfied: PyYAML>5.4 in /opt/anaconda3/envs/myenv/lib/python3.11/site-packages (from pytorch-lightning->ISLP) (6.0.2)\n",
      "Requirement already satisfied: fsspec>=2022.5.0 in /opt/anaconda3/envs/myenv/lib/python3.11/site-packages (from fsspec[http]>=2022.5.0->pytorch-lightning->ISLP) (2025.9.0)\n",
      "Requirement already satisfied: lightning-utilities>=0.10.0 in /opt/anaconda3/envs/myenv/lib/python3.11/site-packages (from pytorch-lightning->ISLP) (0.15.2)\n",
      "Requirement already satisfied: aiohttp!=4.0.0a0,!=4.0.0a1 in /opt/anaconda3/envs/myenv/lib/python3.11/site-packages (from fsspec[http]>=2022.5.0->pytorch-lightning->ISLP) (3.12.15)\n",
      "Requirement already satisfied: aiohappyeyeballs>=2.5.0 in /opt/anaconda3/envs/myenv/lib/python3.11/site-packages (from aiohttp!=4.0.0a0,!=4.0.0a1->fsspec[http]>=2022.5.0->pytorch-lightning->ISLP) (2.6.1)\n",
      "Requirement already satisfied: aiosignal>=1.4.0 in /opt/anaconda3/envs/myenv/lib/python3.11/site-packages (from aiohttp!=4.0.0a0,!=4.0.0a1->fsspec[http]>=2022.5.0->pytorch-lightning->ISLP) (1.4.0)\n",
      "Requirement already satisfied: attrs>=17.3.0 in /opt/anaconda3/envs/myenv/lib/python3.11/site-packages (from aiohttp!=4.0.0a0,!=4.0.0a1->fsspec[http]>=2022.5.0->pytorch-lightning->ISLP) (25.3.0)\n",
      "Requirement already satisfied: frozenlist>=1.1.1 in /opt/anaconda3/envs/myenv/lib/python3.11/site-packages (from aiohttp!=4.0.0a0,!=4.0.0a1->fsspec[http]>=2022.5.0->pytorch-lightning->ISLP) (1.7.0)\n",
      "Requirement already satisfied: multidict<7.0,>=4.5 in /opt/anaconda3/envs/myenv/lib/python3.11/site-packages (from aiohttp!=4.0.0a0,!=4.0.0a1->fsspec[http]>=2022.5.0->pytorch-lightning->ISLP) (6.6.4)\n",
      "Requirement already satisfied: propcache>=0.2.0 in /opt/anaconda3/envs/myenv/lib/python3.11/site-packages (from aiohttp!=4.0.0a0,!=4.0.0a1->fsspec[http]>=2022.5.0->pytorch-lightning->ISLP) (0.3.2)\n",
      "Requirement already satisfied: yarl<2.0,>=1.17.0 in /opt/anaconda3/envs/myenv/lib/python3.11/site-packages (from aiohttp!=4.0.0a0,!=4.0.0a1->fsspec[http]>=2022.5.0->pytorch-lightning->ISLP) (1.20.1)\n",
      "Requirement already satisfied: idna>=2.0 in /opt/anaconda3/envs/myenv/lib/python3.11/site-packages (from yarl<2.0,>=1.17.0->aiohttp!=4.0.0a0,!=4.0.0a1->fsspec[http]>=2022.5.0->pytorch-lightning->ISLP) (3.10)\n",
      "Requirement already satisfied: setuptools in /opt/anaconda3/envs/myenv/lib/python3.11/site-packages (from lightning-utilities>=0.10.0->pytorch-lightning->ISLP) (78.1.1)\n",
      "Requirement already satisfied: filelock in /opt/anaconda3/envs/myenv/lib/python3.11/site-packages (from torch->ISLP) (3.19.1)\n",
      "Requirement already satisfied: sympy>=1.13.3 in /opt/anaconda3/envs/myenv/lib/python3.11/site-packages (from torch->ISLP) (1.14.0)\n",
      "Requirement already satisfied: networkx in /opt/anaconda3/envs/myenv/lib/python3.11/site-packages (from torch->ISLP) (3.5)\n",
      "Requirement already satisfied: jinja2 in /opt/anaconda3/envs/myenv/lib/python3.11/site-packages (from torch->ISLP) (3.1.6)\n",
      "Requirement already satisfied: mpmath<1.4,>=1.1.0 in /opt/anaconda3/envs/myenv/lib/python3.11/site-packages (from sympy>=1.13.3->torch->ISLP) (1.3.0)\n",
      "Requirement already satisfied: MarkupSafe>=2.0 in /opt/anaconda3/envs/myenv/lib/python3.11/site-packages (from jinja2->torch->ISLP) (3.0.2)\n",
      "[38.51 30.84 29.22 27.75]\n"
     ]
    }
   ],
   "source": [
    "#Q1\n",
    "\n",
    "!pip install ISLP\n",
    "import numpy as np\n",
    "import pandas as pd\n",
    "from ISLP import load_data\n",
    "from sklearn.model_selection import train_test_split\n",
    "from sklearn.preprocessing import PolynomialFeatures\n",
    "from sklearn.linear_model import LinearRegression\n",
    "from sklearn.metrics import mean_squared_error\n",
    "\n",
    "Boston = load_data('Boston')      \n",
    "X = Boston[['lstat']].values       \n",
    "y = Boston['medv'].values \n",
    "\n",
    "X_train, X_val, y_train, y_val = train_test_split(\n",
    "    X, y,\n",
    "    train_size=253,     \n",
    "    test_size=253,      \n",
    "    random_state=42      \n",
    ")\n",
    "\n",
    "mse_results = []\n",
    "for degree in range(1, 5):\n",
    "    poly = PolynomialFeatures(degree=degree, include_bias=False)\n",
    "    X_train_poly = poly.fit_transform(X_train)\n",
    "    X_val_poly = poly.transform(X_val)\n",
    "    \n",
    "    model = LinearRegression()\n",
    "    model.fit(X_train_poly, y_train)\n",
    "    \n",
    "    y_val_pred = model.predict(X_val_poly)\n",
    "    mse = mean_squared_error(y_val, y_val_pred)\n",
    "    mse_results.append((degree, mse))\n",
    "\n",
    "results = np.array([mse for _, mse in mse_results])\n",
    "results = np.round(results, 2)\n",
    "print(results)"
   ]
  },
  {
   "cell_type": "markdown",
   "id": "05d4b8cd",
   "metadata": {},
   "source": [
    "# Q1\n",
    "The validation MSE values (rounded to 2 decimals) are:\n",
    "\n",
    "[38.51 30.84 29.22 27.75]\n",
    "\n"
   ]
  },
  {
   "cell_type": "code",
   "execution_count": null,
   "id": "5172a3d4",
   "metadata": {},
   "outputs": [
    {
     "data": {
      "text/plain": [
       "array([9291471.1 , 9255509.68, 9263314.52, 9269359.81, 9300815.83])"
      ]
     },
     "execution_count": 9,
     "metadata": {},
     "output_type": "execute_result"
    }
   ],
   "source": [
    "# Q2\n",
    "import numpy as np\n",
    "import pandas as pd\n",
    "import statsmodels.api as sm\n",
    "from ISLP import load_data\n",
    "from ISLP.models import sklearn_sm, ModelSpec   \n",
    "from sklearn.model_selection import cross_validate\n",
    "\n",
    "College = load_data('College')\n",
    "y = College['Outstate'].values\n",
    "n = College.shape[0]\n",
    "\n",
    "def make_poly_X(df, d):\n",
    "    X = pd.DataFrame(index=df.index)\n",
    "    X['RB'] = df['Room.Board']\n",
    "    for k in range(2, d+1):\n",
    "        X[f'RB{k}'] = df['Room.Board'] ** k\n",
    "    return X\n",
    "\n",
    "cv_mse = []\n",
    "for d in range(1, 6):\n",
    "    Xd = make_poly_X(College, d)\n",
    "    features = list(Xd.columns)\n",
    "    est = sklearn_sm(sm.OLS, ModelSpec(features))   \n",
    "\n",
    "    cv_res = cross_validate(\n",
    "        est, Xd, y,\n",
    "        cv=n,\n",
    "        scoring='neg_mean_squared_error',\n",
    "        return_train_score=False\n",
    "    )\n",
    "    mean_mse = -np.mean(cv_res['test_score'])\n",
    "    cv_mse.append(mean_mse)\n",
    "\n",
    "cv_mse_array = np.round(np.array(cv_mse, dtype=float), 2)\n",
    "cv_mse_array\n"
   ]
  },
  {
   "cell_type": "markdown",
   "id": "8d813e4a",
   "metadata": {},
   "source": [
    "# Q2\n",
    "\n",
    "The results (rounded to 2 decimals) are:\n",
    "\n",
    "array([9291471.10, 9255509.68, 9263314.52, 9269359.81, 9300815.83])\n",
    "\n",
    "The smallest error occurs at degree 2."
   ]
  },
  {
   "cell_type": "code",
   "execution_count": null,
   "id": "c3c68ca2",
   "metadata": {},
   "outputs": [
    {
     "data": {
      "text/plain": [
       "array([62394.573, 64506.702, 91919.397])"
      ]
     },
     "execution_count": 10,
     "metadata": {},
     "output_type": "execute_result"
    }
   ],
   "source": [
    "# Q3\n",
    "import numpy as np\n",
    "import pandas as pd\n",
    "from ISLP import load_data\n",
    "from sklearn.model_selection import cross_validate, KFold\n",
    "from sklearn.preprocessing import PolynomialFeatures\n",
    "from sklearn.linear_model import LinearRegression\n",
    "from sklearn.pipeline import Pipeline\n",
    "\n",
    "College = load_data('College')\n",
    "X = College[['Room.Board']].values\n",
    "y = College['Outstate'].values\n",
    "\n",
    "kf5 = KFold(n_splits=5, shuffle=True, random_state=123)\n",
    "kf10 = KFold(n_splits=10, shuffle=True, random_state=123)\n",
    "\n",
    "mse_5 = []\n",
    "mse_10 = []\n",
    "\n",
    "for d in [1, 2, 3]:\n",
    "    est = Pipeline([\n",
    "        ('poly', PolynomialFeatures(degree=d, include_bias=False)),\n",
    "        ('lin', LinearRegression())\n",
    "    ])\n",
    "    \n",
    "    # 5-fold CV\n",
    "    cv_res5 = cross_validate(\n",
    "        est, X, y,\n",
    "        cv=kf5,\n",
    "        scoring='neg_mean_squared_error',\n",
    "        return_train_score=False\n",
    "    )\n",
    "    mean_mse5 = -np.mean(cv_res5['test_score'])\n",
    "    mse_5.append(mean_mse5)\n",
    "    \n",
    "    # 10-fold CV\n",
    "    cv_res10 = cross_validate(\n",
    "        est, X, y,\n",
    "        cv=kf10,\n",
    "        scoring='neg_mean_squared_error',\n",
    "        return_train_score=False\n",
    "    )\n",
    "    mean_mse10 = -np.mean(cv_res10['test_score'])\n",
    "    mse_10.append(mean_mse10)\n",
    "\n",
    "mse_diff = np.array(mse_5) - np.array(mse_10)\n",
    "\n",
    "mse_diff_rounded = np.round(mse_diff, 3)\n",
    "mse_diff_rounded\n"
   ]
  },
  {
   "cell_type": "markdown",
   "id": "6c318b19",
   "metadata": {},
   "source": [
    "# Q3\n",
    "The reported values correspond to (5-fold error – 10-fold error) for each degree, rounded to 3 decimals:\n",
    "\n",
    "array([62394.573, 64506.702, 91919.397])\n",
    "\n",
    "These results indicate that 10-fold CV consistently yields lower validation errors compared to 5-fold CV."
   ]
  },
  {
   "cell_type": "code",
   "execution_count": 11,
   "id": "9950eeb8",
   "metadata": {},
   "outputs": [
    {
     "data": {
      "text/plain": [
       "(np.float64(-0.1522), np.float64(0.0098))"
      ]
     },
     "execution_count": 11,
     "metadata": {},
     "output_type": "execute_result"
    }
   ],
   "source": [
    "# Q4\n",
    "import numpy as np\n",
    "import pandas as pd\n",
    "from ISLP import load_data\n",
    "\n",
    "Default = load_data('Default')\n",
    "\n",
    "def corr_balance_income(data, idx=None):\n",
    "    if idx is None: \n",
    "        sample = data\n",
    "    else: \n",
    "        sample = data.iloc[idx]\n",
    "    return np.corrcoef(sample['balance'], sample['income'])[0, 1]\n",
    "\n",
    "corr_true = corr_balance_income(Default)\n",
    "\n",
    "B = 2000\n",
    "rng = np.random.default_rng(456)  \n",
    "corr_boot = []\n",
    "\n",
    "n = len(Default)\n",
    "for _ in range(B):\n",
    "    idx = rng.integers(low=0, high=n, size=n) \n",
    "    corr_boot.append(corr_balance_income(Default, idx))\n",
    "\n",
    "se_boot = np.std(corr_boot, ddof=1)\n",
    "\n",
    "corr_true_rounded = np.round(corr_true, 4)\n",
    "se_boot_rounded = np.round(se_boot, 4)\n",
    "\n",
    "corr_true_rounded, se_boot_rounded"
   ]
  },
  {
   "cell_type": "markdown",
   "id": "8ea65d0c",
   "metadata": {},
   "source": [
    "# Q4\n",
    "\n",
    "The correlation coefficient is -0.1522, and the bootstrap standard error is 0.0098."
   ]
  },
  {
   "cell_type": "code",
   "execution_count": 12,
   "id": "49872cc2",
   "metadata": {},
   "outputs": [
    {
     "data": {
      "text/plain": [
       "array([0.75 , 0.808, 0.841])"
      ]
     },
     "execution_count": 12,
     "metadata": {},
     "output_type": "execute_result"
    }
   ],
   "source": [
    "# Q5\n",
    "import numpy as np\n",
    "import pandas as pd\n",
    "import statsmodels.api as sm\n",
    "from ISLP import load_data\n",
    "\n",
    "Wage = load_data('Wage')\n",
    "\n",
    "X_quad = pd.DataFrame({\n",
    "    'age': Wage['age'],\n",
    "    'age2': Wage['age']**2\n",
    "})\n",
    "X_quad = sm.add_constant(X_quad) \n",
    "y = Wage['wage']\n",
    "\n",
    "ols_model = sm.OLS(y, X_quad).fit()\n",
    "ols_se = ols_model.bse.values   \n",
    "\n",
    "B = 1500\n",
    "rng = np.random.default_rng(789)\n",
    "coef_boot = []\n",
    "\n",
    "n = len(Wage)\n",
    "for _ in range(B):\n",
    "    idx = rng.integers(low=0, high=n, size=n)\n",
    "    Xb = X_quad.iloc[idx]\n",
    "    yb = y.iloc[idx]\n",
    "    model_b = sm.OLS(yb, Xb).fit()\n",
    "    coef_boot.append(model_b.params.values)\n",
    "\n",
    "coef_boot = np.array(coef_boot)\n",
    "boot_se = coef_boot.std(axis=0, ddof=1)   \n",
    "\n",
    "ratios = boot_se / ols_se\n",
    "ratios_rounded = np.round(ratios, 3)\n",
    "\n",
    "ratios_rounded\n"
   ]
  },
  {
   "cell_type": "markdown",
   "id": "b0c7e885",
   "metadata": {},
   "source": [
    "# Q5\n",
    "\n",
    "The ratios of bootstrap SE to OLS SE for the three coefficients (intercept, age, age_square) are:\n",
    "\n",
    "array([0.750, 0.808, 0.841])\n",
    "\n",
    "This indicates that the bootstrap estimates of standard errors are consistently smaller than the traditional OLS standard errors."
   ]
  }
 ],
 "metadata": {
  "kernelspec": {
   "display_name": "myenv",
   "language": "python",
   "name": "python3"
  },
  "language_info": {
   "codemirror_mode": {
    "name": "ipython",
    "version": 3
   },
   "file_extension": ".py",
   "mimetype": "text/x-python",
   "name": "python",
   "nbconvert_exporter": "python",
   "pygments_lexer": "ipython3",
   "version": "3.11.13"
  }
 },
 "nbformat": 4,
 "nbformat_minor": 5
}
